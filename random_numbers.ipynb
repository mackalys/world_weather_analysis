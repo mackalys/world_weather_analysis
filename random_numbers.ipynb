{
 "cells": [
  {
   "cell_type": "code",
   "execution_count": 20,
   "id": "0f33d90b",
   "metadata": {},
   "outputs": [],
   "source": [
    "# Import the random module\n",
    "import random"
   ]
  },
  {
   "cell_type": "code",
   "execution_count": 21,
   "id": "f25f149c",
   "metadata": {},
   "outputs": [
    {
     "data": {
      "text/plain": [
       "-6"
      ]
     },
     "execution_count": 21,
     "metadata": {},
     "output_type": "execute_result"
    }
   ],
   "source": [
    "random.randint(-90, 90)"
   ]
  },
  {
   "cell_type": "code",
   "execution_count": 22,
   "id": "b5b4251d",
   "metadata": {},
   "outputs": [
    {
     "data": {
      "text/plain": [
       "0.9641971279165122"
      ]
     },
     "execution_count": 22,
     "metadata": {},
     "output_type": "execute_result"
    }
   ],
   "source": [
    "random.random()"
   ]
  },
  {
   "cell_type": "code",
   "execution_count": 25,
   "id": "c6abcf2c",
   "metadata": {},
   "outputs": [
    {
     "data": {
      "text/plain": [
       "9.561935736076277"
      ]
     },
     "execution_count": 25,
     "metadata": {},
     "output_type": "execute_result"
    }
   ],
   "source": [
    "random_number = random.randint(-90, 89) + random.random()\n",
    "random_number"
   ]
  },
  {
   "cell_type": "code",
   "execution_count": 26,
   "id": "494b0a74",
   "metadata": {},
   "outputs": [],
   "source": [
    "x = 1\n",
    "latitudes = []\n",
    "while x < 11:\n",
    "    random_lat = random.randint(-90, 89) + random.random()\n",
    "    latitudes.append(random_lat)\n",
    "    x += 1"
   ]
  },
  {
   "cell_type": "code",
   "execution_count": 27,
   "id": "bea61237",
   "metadata": {},
   "outputs": [
    {
     "data": {
      "text/plain": [
       "[-21.32821393471713,\n",
       " 8.977673741268877,\n",
       " 5.620686211037663,\n",
       " -57.74364359490876,\n",
       " 84.02217139566639,\n",
       " -71.91863085970813,\n",
       " -61.57359307435139,\n",
       " 57.65028263852134,\n",
       " -56.42578989616963,\n",
       " -42.26310919971178]"
      ]
     },
     "execution_count": 27,
     "metadata": {},
     "output_type": "execute_result"
    }
   ],
   "source": [
    "latitudes"
   ]
  },
  {
   "cell_type": "code",
   "execution_count": 28,
   "id": "3c00bb11",
   "metadata": {},
   "outputs": [
    {
     "data": {
      "text/plain": [
       "-37"
      ]
     },
     "execution_count": 28,
     "metadata": {},
     "output_type": "execute_result"
    }
   ],
   "source": [
    "random.randrange(-90, 90, step=1)"
   ]
  },
  {
   "cell_type": "code",
   "execution_count": 29,
   "id": "64ada31b",
   "metadata": {},
   "outputs": [
    {
     "data": {
      "text/plain": [
       "-87"
      ]
     },
     "execution_count": 29,
     "metadata": {},
     "output_type": "execute_result"
    }
   ],
   "source": [
    "random.randrange(-90, 90, step=3)"
   ]
  },
  {
   "cell_type": "code",
   "execution_count": 30,
   "id": "ec7e1cf0",
   "metadata": {},
   "outputs": [
    {
     "data": {
      "text/plain": [
       "61.79489974582796"
      ]
     },
     "execution_count": 30,
     "metadata": {},
     "output_type": "execute_result"
    }
   ],
   "source": [
    "random.uniform(-90, 90)"
   ]
  },
  {
   "cell_type": "code",
   "execution_count": 31,
   "id": "7d8a71a8",
   "metadata": {},
   "outputs": [],
   "source": [
    "# Import the NumPy module\n",
    "import numpy as np"
   ]
  },
  {
   "cell_type": "code",
   "execution_count": 33,
   "id": "ff4c7c24",
   "metadata": {},
   "outputs": [
    {
     "data": {
      "text/plain": [
       "36.010337551588364"
      ]
     },
     "execution_count": 33,
     "metadata": {},
     "output_type": "execute_result"
    }
   ],
   "source": [
    "np.random.uniform(-90.000, 90.000)"
   ]
  },
  {
   "cell_type": "code",
   "execution_count": 34,
   "id": "7369d676",
   "metadata": {},
   "outputs": [
    {
     "data": {
      "text/plain": [
       "array([-69.60460436,  21.63079992, -33.95817603,  63.96801411,\n",
       "        -1.9845174 ,  19.32513797, -61.18086992, -72.97833488,\n",
       "       -72.85652646,  61.12364518, -52.1478363 , -66.21934303,\n",
       "       -36.76399605, -66.00100989, -22.81837546,   2.23515039,\n",
       "        17.95758047, -39.87748703, -82.64578666,   7.00255477,\n",
       "        22.16604769,  71.10222432,  54.30500507,  45.2724612 ,\n",
       "        63.8225139 , -89.94671265, -25.49787949,  25.34068394,\n",
       "        55.54351352, -89.70638124,  52.33400895,  25.72509271,\n",
       "       -64.88740452,  51.02093178, -54.78870536, -58.96835386,\n",
       "        14.45136847,  79.93517337,  85.41931313,  -2.59293388,\n",
       "       -70.28070077,  46.47721022,  45.90470652, -24.14738168,\n",
       "        52.71709928,  81.95437189,  42.45822637,  30.7979729 ,\n",
       "       -65.82809862, -69.21075938])"
      ]
     },
     "execution_count": 34,
     "metadata": {},
     "output_type": "execute_result"
    }
   ],
   "source": [
    "np.random.uniform(-90.000, 90.000, size=50)"
   ]
  },
  {
   "cell_type": "code",
   "execution_count": 35,
   "id": "58a7dd1a",
   "metadata": {},
   "outputs": [],
   "source": [
    "# Import timeit\n",
    "import timeit"
   ]
  },
  {
   "cell_type": "code",
   "execution_count": 36,
   "id": "53a9f381",
   "metadata": {},
   "outputs": [
    {
     "name": "stdout",
     "output_type": "stream",
     "text": [
      "14.8 µs ± 222 ns per loop (mean ± std. dev. of 7 runs, 100000 loops each)\n"
     ]
    }
   ],
   "source": [
    "%timeit np.random.uniform(-90.000, 90.000, size=1500)"
   ]
  },
  {
   "cell_type": "code",
   "execution_count": 37,
   "id": "c07c5d66",
   "metadata": {},
   "outputs": [
    {
     "name": "stdout",
     "output_type": "stream",
     "text": [
      "1.55 ms ± 23.4 µs per loop (mean ± std. dev. of 7 runs, 1000 loops each)\n"
     ]
    }
   ],
   "source": [
    "def latitudes(size):\n",
    "    latitudes = []\n",
    "    x = 0\n",
    "    while x < (size):\n",
    "        random_lat = random.randint(-90, 90) + random.random()\n",
    "        latitudes.append(random_lat)\n",
    "        x += 1\n",
    "    return latitudes\n",
    "# Call the function with 1500\n",
    "%timeit latitudes(1500)"
   ]
  }
 ],
 "metadata": {
  "kernelspec": {
   "display_name": "PythonData",
   "language": "python",
   "name": "pythondata"
  },
  "language_info": {
   "codemirror_mode": {
    "name": "ipython",
    "version": 3
   },
   "file_extension": ".py",
   "mimetype": "text/x-python",
   "name": "python",
   "nbconvert_exporter": "python",
   "pygments_lexer": "ipython3",
   "version": "3.9.7"
  }
 },
 "nbformat": 4,
 "nbformat_minor": 5
}
